{
 "cells": [
  {
   "cell_type": "code",
   "execution_count": 14,
   "metadata": {},
   "outputs": [
    {
     "name": "stdout",
     "output_type": "stream",
     "text": [
      "Hr Hv Lrvw\n"
     ]
    }
   ],
   "source": [
    "def cipher(s) :\n",
    "    out = ''\n",
    "    for c in s :\n",
    "        if c.islower() :\n",
    "            t = chr(219 - ord(c))\n",
    "        else :\n",
    "            t = c\n",
    "        out += t\n",
    "    return out\n",
    "\n",
    "x = \"Hi He Lied\"\n",
    "print(cipher(x))"
   ]
  },
  {
   "cell_type": "code",
   "execution_count": null,
   "metadata": {},
   "outputs": [],
   "source": []
  }
 ],
 "metadata": {
  "kernelspec": {
   "display_name": "Python 3",
   "language": "python",
   "name": "python3"
  },
  "language_info": {
   "codemirror_mode": {
    "name": "ipython",
    "version": 3
   },
   "file_extension": ".py",
   "mimetype": "text/x-python",
   "name": "python",
   "nbconvert_exporter": "python",
   "pygments_lexer": "ipython3",
   "version": "3.7.1"
  }
 },
 "nbformat": 4,
 "nbformat_minor": 2
}
