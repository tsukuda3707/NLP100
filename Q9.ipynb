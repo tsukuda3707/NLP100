{
 "cells": [
  {
   "cell_type": "code",
   "execution_count": 14,
   "metadata": {
    "tags": []
   },
   "outputs": [
    {
     "output_type": "stream",
     "name": "stdout",
     "text": "I c’lnuodt blieeve that I culod aucaltly urnsntdead what I was renaidg : the pmnhoaeenl pwoer of the human mind .\n"
    }
   ],
   "source": [
    "import random\n",
    "\n",
    "def mixer(s) :\n",
    "    out = []\n",
    "    for word in s.split() :\n",
    "        if len(word) > 4:\n",
    "            center_word = word[1:-1]\n",
    "            mixed_word = word[0] + ''.join(random.sample(center_word, len(center_word))) + word[-1]\n",
    "        else :\n",
    "            mixed_word = word\n",
    "\n",
    "        out.append(''.join(mixed_word))\n",
    "\n",
    "    return ' '.join(out)\n",
    "\n",
    "x = 'I couldn’t believe that I could actually understand what I was reading : the phenomenal power of the human mind .'\n",
    "print(mixer(x))\n",
    "\n",
    "            "
   ]
  }
 ],
 "metadata": {
  "kernelspec": {
   "display_name": "Python 3.7.3 64-bit",
   "language": "python",
   "name": "python_defaultSpec_1595379462411"
  },
  "language_info": {
   "codemirror_mode": {
    "name": "ipython",
    "version": 3
   },
   "file_extension": ".py",
   "mimetype": "text/x-python",
   "name": "python",
   "nbconvert_exporter": "python",
   "pygments_lexer": "ipython3",
   "version": "3.7.1"
  }
 },
 "nbformat": 4,
 "nbformat_minor": 2
}