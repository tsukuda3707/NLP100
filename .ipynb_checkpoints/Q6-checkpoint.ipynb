{
 "cells": [
  {
   "cell_type": "code",
   "execution_count": 8,
   "metadata": {},
   "outputs": [
    {
     "name": "stdout",
     "output_type": "stream",
     "text": [
      "{'ad', 'se', 'ap', 'is', 'gr', 'ra', 'pa', 'ph', 'ag', 'ar', 'di'}\n",
      "{'ar', 'pa', 'ap', 'ra'}\n",
      "{'ad', 'se', 'is', 'di'}\n",
      "True\n",
      "False\n"
     ]
    }
   ],
   "source": [
    "def bi_gram(target):\n",
    "    return [target[i:i + 2] for i in range(len(target) - 1)]\n",
    "\n",
    "sen1 = \"paraparaparadise\"\n",
    "sen2 = \"paragraph\"\n",
    "\n",
    "X = set(bi_gram(sen1))\n",
    "Y = set(bi_gram(sen2))\n",
    "\n",
    "print(set.union(X, Y))\n",
    "print(set.intersection(X, Y))\n",
    "print(set.difference(X, Y))\n",
    "\n",
    "print('se' in (X))\n",
    "print('se' in (Y))"
   ]
  },
  {
   "cell_type": "code",
   "execution_count": null,
   "metadata": {},
   "outputs": [],
   "source": []
  }
 ],
 "metadata": {
  "kernelspec": {
   "display_name": "Python 3",
   "language": "python",
   "name": "python3"
  },
  "language_info": {
   "codemirror_mode": {
    "name": "ipython",
    "version": 3
   },
   "file_extension": ".py",
   "mimetype": "text/x-python",
   "name": "python",
   "nbconvert_exporter": "python",
   "pygments_lexer": "ipython3",
   "version": "3.7.1"
  }
 },
 "nbformat": 4,
 "nbformat_minor": 2
}
