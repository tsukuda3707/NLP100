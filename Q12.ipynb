{
 "cells": [
  {
   "cell_type": "code",
   "execution_count": 1,
   "metadata": {
    "tags": []
   },
   "outputs": [],
   "source": [
    "cl1 = []\n",
    "cl2 = []\n",
    "\n",
    "with open('popular-names.txt', 'r') as p:\n",
    "    for l in p:\n",
    "        cl1.append(l.split('\\t')[0])\n",
    "        cl2.append(l.split('\\t')[1])\n",
    "\n",
    "with open('col1.txt', 'w') as out1:\n",
    "    out1.write('\\n'.join(cl1))\n",
    "\n",
    "with open('col2.txt', 'w') as out2:\n",
    "    out2.write('\\n'.join(cl2))\n",
    "\n",
    "   "
   ]
  },
  {
   "cell_type": "code",
   "execution_count": null,
   "metadata": {},
   "outputs": [],
   "source": []
  }
 ],
 "metadata": {
  "language_info": {
   "codemirror_mode": {
    "name": "ipython",
    "version": 3
   },
   "file_extension": ".py",
   "mimetype": "text/x-python",
   "name": "python",
   "nbconvert_exporter": "python",
   "pygments_lexer": "ipython3",
   "version": 3
  },
  "orig_nbformat": 2,
  "kernelspec": {
   "name": "python_defaultSpec_1595717152283",
   "display_name": "Python 3.7.3 64-bit"
  }
 },
 "nbformat": 4,
 "nbformat_minor": 2
}