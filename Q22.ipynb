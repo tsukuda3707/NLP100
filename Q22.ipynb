{
 "metadata": {
  "language_info": {
   "codemirror_mode": {
    "name": "ipython",
    "version": 3
   },
   "file_extension": ".py",
   "mimetype": "text/x-python",
   "name": "python",
   "nbconvert_exporter": "python",
   "pygments_lexer": "ipython3",
   "version": "3.7.3-final"
  },
  "orig_nbformat": 2,
  "kernelspec": {
   "name": "python_defaultSpec_1599978070764",
   "display_name": "Python 3.7.3 64-bit"
  }
 },
 "nbformat": 4,
 "nbformat_minor": 2,
 "cells": [
  {
   "cell_type": "code",
   "execution_count": 2,
   "metadata": {
    "tags": []
   },
   "outputs": [
    {
     "output_type": "stream",
     "name": "stdout",
     "text": "イギリス\nイギリス連邦加盟国\n英連邦王国\nG8加盟国\n欧州連合加盟国\n海洋国家\n現存する君主国\n島国\n1801年に成立した国家・領域\n"
    }
   ],
   "source": [
    "import json\n",
    "import gzip\n",
    "import re\n",
    "\n",
    "def read_article(fname, title):\n",
    "    with gzip.open(fname, \"rt\") as w:\n",
    "        for lines in w:\n",
    "            tmp = json.loads(lines)\n",
    "            if tmp[\"title\"] == title:\n",
    "                return tmp[\"text\"]\n",
    "\n",
    "def is_category(string):\n",
    "    return re.match(r'^\\[\\[Category:.+\\]\\]$', string)\n",
    "\n",
    "def get_category_name(string):\n",
    "    # カテゴリ名の抽出\n",
    "    m = re.match(r'^\\[\\[Category:(.*)\\]\\]$', string)\n",
    "    # m.group(1) => 'category_name' or 'category_name|sort_key'\n",
    "    return m.group(1).split('|')[0]\n",
    "\n",
    "def main():\n",
    "    fname = \"jawiki-country.json.gz\"\n",
    "    title = \"イギリス\"\n",
    "    text = read_article(fname, title).split('\\n')\n",
    "\n",
    "    for line in text:\n",
    "        if is_category(line):\n",
    "            print(get_category_name(line))\n",
    "\n",
    "\n",
    "if __name__ == '__main__':\n",
    "    main()"
   ]
  },
  {
   "cell_type": "code",
   "execution_count": null,
   "metadata": {},
   "outputs": [],
   "source": []
  }
 ]
}