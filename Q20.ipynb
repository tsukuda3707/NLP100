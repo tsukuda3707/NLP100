{
 "metadata": {
  "language_info": {
   "codemirror_mode": {
    "name": "ipython",
    "version": 3
   },
   "file_extension": ".py",
   "mimetype": "text/x-python",
   "name": "python",
   "nbconvert_exporter": "python",
   "pygments_lexer": "ipython3",
   "version": 3
  },
  "orig_nbformat": 2,
  "kernelspec": {
   "name": "python_defaultSpec_1596767314916",
   "display_name": "Python 3.7.3 64-bit"
  }
 },
 "nbformat": 4,
 "nbformat_minor": 2,
 "cells": [
  {
   "cell_type": "code",
   "execution_count": null,
   "metadata": {},
   "outputs": [],
   "source": [
    "import json\n",
    "import gzip\n",
    "\n",
    "def read_article(fname, title):\n",
    "    with gzip.open(fname, \"rt\") as w:\n",
    "        for lines in w:\n",
    "            tmp = json.loads(lines)\n",
    "            if tmp[\"title\"] = title:\n",
    "                return tmp[\"text\"]\n",
    "\n",
    "def main():\n",
    "    fname = \"jawiki-country.json.gz\"\n",
    "    title = \"イギリス\"\n",
    "    print(read_article(fname, title))\n",
    "\n",
    "if __name__ = '__main__':\n",
    "    main()"
   ]
  },
  {
   "cell_type": "code",
   "execution_count": null,
   "metadata": {},
   "outputs": [],
   "source": []
  }
 ]
}