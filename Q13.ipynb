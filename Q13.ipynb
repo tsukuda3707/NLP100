{
 "cells": [
  {
   "cell_type": "code",
   "execution_count": 5,
   "metadata": {
    "tags": []
   },
   "outputs": [],
   "source": [
    "with open('col1.txt', 'r') as col1:\n",
    "    cl1 = [l.strip() for l in col1]\n",
    "\n",
    "with open('col2.txt', 'r') as col2:\n",
    "    cl2 = [l.strip() for l in col2]\n",
    "\n",
    "with open('merge.txt', 'w') as m:\n",
    "    line = [\"{0}\\t{1}\".format(w1, w2) for w1, w2 in zip(cl1, cl2)]\n",
    "    m.write('\\n'.join(line))"
   ]
  },
  {
   "cell_type": "code",
   "execution_count": null,
   "metadata": {},
   "outputs": [],
   "source": []
  }
 ],
 "metadata": {
  "language_info": {
   "codemirror_mode": {
    "name": "ipython",
    "version": 3
   },
   "file_extension": ".py",
   "mimetype": "text/x-python",
   "name": "python",
   "nbconvert_exporter": "python",
   "pygments_lexer": "ipython3",
   "version": 3
  },
  "orig_nbformat": 2,
  "kernelspec": {
   "name": "python_defaultSpec_1595401600057",
   "display_name": "Python 3.7.3 64-bit"
  }
 },
 "nbformat": 4,
 "nbformat_minor": 2
}