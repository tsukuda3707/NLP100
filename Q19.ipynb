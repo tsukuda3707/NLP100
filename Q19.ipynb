{
 "metadata": {
  "language_info": {
   "codemirror_mode": {
    "name": "ipython",
    "version": 3
   },
   "file_extension": ".py",
   "mimetype": "text/x-python",
   "name": "python",
   "nbconvert_exporter": "python",
   "pygments_lexer": "ipython3",
   "version": 3
  },
  "orig_nbformat": 2,
  "kernelspec": {
   "name": "python_defaultSpec_1596039632769",
   "display_name": "Python 3.7.3 64-bit"
  }
 },
 "nbformat": 4,
 "nbformat_minor": 2,
 "cells": [
  {
   "cell_type": "code",
   "execution_count": 3,
   "metadata": {
    "tags": []
   },
   "outputs": [
    {
     "output_type": "stream",
     "name": "stdout",
     "text": "Taylor\nEthel\nSamantha\nCarol\nKimberly\nAva\nJulie\nMia\nDavid\nLillian\nCharlotte\nBrandon\nRuth\nMildred\nTyler\nPatricia\nLaura\nTracy\nIsabella\nDonald\nWilliam\nDoris\nMadison\nAlexis\nAiden\nAngela\nAbigail\nMichael\nAmanda\nVirginia\nEmma\nScott\nAnthony\nAnna\nMegan\nBertha\nMason\nSophia\nDorothy\nMatthew\nMary\nBarbara\nLauren\nDebra\nAlexander\nJoseph\nRachel\nOliver\nLogan\nCarolyn\nRonald\nChloe\nJessica\nLinda\nEvelyn\nAlice\nClara\nEthan\nSteven\nBrittany\nAnnie\nJohn\nJudith\nHenry\nJennifer\nKaren\nHarry\nBrian\nCrystal\nElijah\nMinnie\nEdward\nMichelle\nRichard\nKathleen\nJeffrey\nNicole\nSandra\nJacob\nLucas\nShirley\nKelly\nElizabeth\nRobert\nMargaret\nBessie\nJoshua\nJoan\nAndrew\nAmy\nStephanie\nJames\nSharon\nIda\nHelen\nOlivia\nDeborah\nPamela\nAshley\nGary\nRebecca\nCynthia\nCharles\nAustin\nMarie\nEmily\nAmelia\nChristopher\nDonna\nTammy\nNoah\nFrances\nHeather\nJustin\nThomas\nHarper\nLiam\nWalter\nGeorge\nJason\nFrank\nMark\nLarry\nFlorence\nHannah\nJayden\nLori\nMelissa\nNicholas\nLisa\nDaniel\nBenjamin\nBetty\nSusan\nSarah\nNancy\n"
    }
   ],
   "source": [
    "import collections\n",
    "\n",
    "with open('popular-names.txt','r') as p:\n",
    "    cl1 = {l.split('\\t')[0] for l in p}\n",
    "    counter = collections.Counter(cl1)\n",
    "    cl1_sorted = [counter.most_common()[i][0] for i in range(len(counter))]\n",
    "    print('\\n'.join(cl1_sorted))"
   ]
  },
  {
   "cell_type": "code",
   "execution_count": null,
   "metadata": {},
   "outputs": [],
   "source": []
  }
 ]
}