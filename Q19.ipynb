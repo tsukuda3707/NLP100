{
 "metadata": {
  "language_info": {
   "codemirror_mode": {
    "name": "ipython",
    "version": 3
   },
   "file_extension": ".py",
   "mimetype": "text/x-python",
   "name": "python",
   "nbconvert_exporter": "python",
   "pygments_lexer": "ipython3",
   "version": 3
  },
  "orig_nbformat": 2,
  "kernelspec": {
   "name": "python_defaultSpec_1596039632769",
   "display_name": "Python 3.7.3 64-bit"
  }
 },
 "nbformat": 4,
 "nbformat_minor": 2,
 "cells": [
  {
   "cell_type": "code",
   "execution_count": 10,
   "metadata": {
    "tags": []
   },
   "outputs": [
    {
     "output_type": "stream",
     "name": "stdout",
     "text": "James\nWilliam\nJohn\nRobert\nMary\nCharles\nMichael\nElizabeth\nJoseph\nMargaret\nGeorge\nThomas\nDavid\nRichard\nHelen\nFrank\nChristopher\nAnna\nEdward\nRuth\nPatricia\nMatthew\nDorothy\nEmma\nBarbara\nDaniel\nJoshua\nSarah\nLinda\nJennifer\nEmily\nJessica\nJacob\nMildred\nBetty\nSusan\nHenry\nAshley\nNancy\nAndrew\nFlorence\nMarie\nDonald\nAmanda\nSamantha\nKaren\nLisa\nMelissa\nMadison\nOlivia\nStephanie\nAbigail\nEthel\nSandra\nMark\nFrances\nCarol\nAngela\nMichelle\nHeather\nEthan\nIsabella\nShirley\nKimberly\nAmy\nAva\nVirginia\nDeborah\nBrian\nJason\nNicole\nHannah\nSophia\nMinnie\nBertha\nDonna\nCynthia\nAlice\nDoris\nRonald\nBrittany\nNicholas\nMia\nNoah\nJoan\nDebra\nTyler\nIda\nClara\nJudith\nTaylor\nAlexis\nAlexander\nMason\nHarry\nSharon\nSteven\nTammy\nBrandon\nLiam\nAnthony\nAnnie\nGary\nJeffrey\nJayden\nCharlotte\nLillian\nKathleen\nJustin\nAustin\nChloe\nBenjamin\nEvelyn\nMegan\nAiden\nHarper\nElijah\nBessie\nLarry\nRebecca\nLauren\nAmelia\nLogan\nOliver\nWalter\nCarolyn\nPamela\nLori\nLaura\nTracy\nJulie\nScott\nKelly\nCrystal\nRachel\nLucas\n"
    }
   ],
   "source": [
    "import collections\n",
    "\n",
    "with open('popular-names.txt','r') as p:\n",
    "    cl1 = [l.split('\\t')[0] for l in p]\n",
    "    counter = collections.Counter(cl1)\n",
    "    cl1_sorted = [counter.most_common()[i][0] for i in range(len(counter))]\n",
    "    print('\\n'.join(cl1_sorted))"
   ]
  },
  {
   "cell_type": "code",
   "execution_count": null,
   "metadata": {},
   "outputs": [],
   "source": []
  }
 ]
}