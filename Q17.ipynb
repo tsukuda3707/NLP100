{
 "metadata": {
  "language_info": {
   "codemirror_mode": {
    "name": "ipython",
    "version": 3
   },
   "file_extension": ".py",
   "mimetype": "text/x-python",
   "name": "python",
   "nbconvert_exporter": "python",
   "pygments_lexer": "ipython3",
   "version": 3
  },
  "orig_nbformat": 2,
  "kernelspec": {
   "name": "python_defaultSpec_1595717092340",
   "display_name": "Python 3.7.3 64-bit"
  }
 },
 "nbformat": 4,
 "nbformat_minor": 2,
 "cells": [
  {
   "cell_type": "code",
   "execution_count": 3,
   "metadata": {
    "tags": []
   },
   "outputs": [
    {
     "output_type": "stream",
     "name": "stdout",
     "text": "Helen\nDavid\nSharon\nMark\nMildred\nCrystal\nBertha\nWilliam\nEthan\nElizabeth\nRobert\nRichard\nSophia\nMason\nClara\nRebecca\nHenry\nLarry\nJulie\nThomas\nNicole\nSamantha\nPamela\nEmily\nAshley\nMatthew\nJason\nKaren\nEthel\nMichelle\nVirginia\nLogan\nTammy\nHannah\nCharles\nAlexander\nAiden\nKelly\nSandra\nLisa\nMinnie\nJohn\nNoah\nLiam\nBetty\nDonald\nMelissa\nJustin\nCharlotte\nMary\nAngela\nTaylor\nLaura\nJeffrey\nJames\nAnna\nMargaret\nDonna\nAbigail\nShirley\nFrank\nMadison\nBrian\nNicholas\nBrittany\nOliver\nScott\nLillian\nLori\nLinda\nTracy\nCynthia\nRuth\nNancy\nAmelia\nGeorge\nJessica\nSteven\nAlexis\nMichael\nAva\nRonald\nElijah\nMia\nHarper\nDebra\nDorothy\nKathleen\nChristopher\nCarolyn\nJoan\nAnnie\nJacob\nBrandon\nLucas\nHeather\nJoshua\nDaniel\nAndrew\nKimberly\nJayden\nEmma\nCarol\nSusan\nIda\nTyler\nDoris\nBenjamin\nEvelyn\nJudith\nChloe\nJoseph\nAlice\nAmy\nDeborah\nOlivia\nStephanie\nMarie\nPatricia\nGary\nSarah\nWalter\nAmanda\nAustin\nIsabella\nJennifer\nEdward\nFrances\nRachel\nFlorence\nAnthony\nBessie\nHarry\nLauren\nBarbara\nMegan\n"
    }
   ],
   "source": [
    "with open('popular-names.txt','r') as p:\n",
    "    cl1 = {l.split('\\t')[0] for l in p}\n",
    "    print('\\n'.join(cl1))"
   ]
  },
  {
   "cell_type": "code",
   "execution_count": null,
   "metadata": {},
   "outputs": [],
   "source": []
  }
 ]
}